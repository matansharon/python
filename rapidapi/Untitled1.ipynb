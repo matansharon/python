{
 "cells": [
  {
   "cell_type": "code",
   "execution_count": 113,
   "id": "877f6a5d",
   "metadata": {
    "ExecuteTime": {
     "end_time": "2022-12-17T19:55:03.396774Z",
     "start_time": "2022-12-17T19:55:03.385931Z"
    }
   },
   "outputs": [],
   "source": [
    "import requests\n",
    "import pandas as pd\n",
    "import json\n",
    "import os"
   ]
  },
  {
   "cell_type": "code",
   "execution_count": 110,
   "id": "1f55eb9d",
   "metadata": {
    "ExecuteTime": {
     "end_time": "2022-12-17T19:49:20.907952Z",
     "start_time": "2022-12-17T19:49:20.901371Z"
    }
   },
   "outputs": [],
   "source": [
    "def get_response(name):\n",
    "    url = \"https://real-time-finance-data.p.rapidapi.com/search\"\n",
    "    querystring = {\"query\":name}\n",
    "    headers = {\n",
    "        \"X-RapidAPI-Key\": \"bddfdf70b8mshbb1ca9870c018e7p119c4ejsn7cd1c7ceb114\",\n",
    "        \"X-RapidAPI-Host\": \"real-time-finance-data.p.rapidapi.com\"\n",
    "    }\n",
    "    \n",
    "    response = requests.request(\"GET\", url, headers=headers, params=querystring)\n",
    "    r=response.json()\n",
    "    return(r['data']['stock'][0])"
   ]
  },
  {
   "cell_type": "code",
   "execution_count": 111,
   "id": "4af8fa9e",
   "metadata": {
    "ExecuteTime": {
     "end_time": "2022-12-17T19:49:24.516546Z",
     "start_time": "2022-12-17T19:49:24.511309Z"
    }
   },
   "outputs": [],
   "source": [
    "def output_json(response):\n",
    "    \n",
    "    json_object = json.dumps(response, indent=4)\n",
    "\n",
    "    \n",
    "    with open(f\"{temp['name']}.json\", \"w\") as outfile:\n",
    "        outfile.write(json_object)\n",
    "# "
   ]
  },
  {
   "cell_type": "code",
   "execution_count": 112,
   "id": "db2e3795",
   "metadata": {
    "ExecuteTime": {
     "end_time": "2022-12-17T19:50:35.028633Z",
     "start_time": "2022-12-17T19:50:24.208038Z"
    }
   },
   "outputs": [
    {
     "name": "stdout",
     "output_type": "stream",
     "text": [
      "error\n"
     ]
    }
   ],
   "source": [
    "# list_of_companies=[\"Saudi Arabian Oil Company\",\"apple\",'Microsoft','google','Amazon','Tesla','Berkshire Hathaway','United Health Group','Meta Platforms','Johnson & Johnson']\n",
    "# for i in list_of_companies:\n",
    "#     try:\n",
    "#         temp=get_response(i)\n",
    "#         output_json(temp)\n",
    "#     except:\n",
    "#         print('error')"
   ]
  },
  {
   "cell_type": "code",
   "execution_count": 116,
   "id": "32a793db",
   "metadata": {
    "ExecuteTime": {
     "end_time": "2022-12-17T19:56:51.477233Z",
     "start_time": "2022-12-17T19:56:51.468494Z"
    }
   },
   "outputs": [
    {
     "name": "stdout",
     "output_type": "stream",
     "text": [
      "Files and directories in ' /Users/matansharon/python projects/rapidapi ' :\n",
      "Amazon.com, Inc..json\n",
      "UnitedHealth Group Inc.json\n",
      "input.json\n",
      "Apple Inc.json\n",
      "Tesla Inc.json\n",
      "sample.json\n",
      "Alphabet Inc Class A.json\n",
      "Saudi Arabian Oil Co.json\n",
      "Berkshire Hathaway Inc Class B.json\n",
      "Microsoft Corp.json\n",
      "Meta Platforms Inc.json\n",
      "meta.json\n"
     ]
    }
   ],
   "source": [
    "\n",
    " \n",
    "# Get the list of all files and directories\n",
    "path = \"/Users/matansharon/python projects/rapidapi\"\n",
    "dir_list = os.listdir(path)\n",
    " \n",
    "print(\"Files and directories in '\", path, \"' :\")\n",
    " \n",
    "# prints all files\n",
    "for i in dir_list:\n",
    "    if \".json\" in i:\n",
    "        print(i)"
   ]
  }
 ],
 "metadata": {
  "kernelspec": {
   "display_name": "Python 3 (ipykernel)",
   "language": "python",
   "name": "python3"
  },
  "language_info": {
   "codemirror_mode": {
    "name": "ipython",
    "version": 3
   },
   "file_extension": ".py",
   "mimetype": "text/x-python",
   "name": "python",
   "nbconvert_exporter": "python",
   "pygments_lexer": "ipython3",
   "version": "3.9.12"
  }
 },
 "nbformat": 4,
 "nbformat_minor": 5
}
