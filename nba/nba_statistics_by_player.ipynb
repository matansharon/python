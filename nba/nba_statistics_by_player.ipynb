{
 "cells": [
  {
   "cell_type": "code",
   "execution_count": null,
   "id": "f654d447",
   "metadata": {
    "ExecuteTime": {
     "end_time": "2022-12-20T06:10:09.783364Z",
     "start_time": "2022-12-20T06:10:09.779226Z"
    }
   },
   "outputs": [],
   "source": [
    "import pandas as pd\n",
    "import sqlalchemy\n",
    "import pymysql\n",
    "import json\n",
    "import requests"
   ]
  },
  {
   "cell_type": "code",
   "execution_count": null,
   "id": "653f86b2",
   "metadata": {},
   "outputs": [],
   "source": [
    "data=pd.read_csv(\"group_stats.csv\")\n",
    "data.head()"
   ]
  },
  {
   "cell_type": "code",
   "execution_count": null,
   "id": "0a96c000",
   "metadata": {},
   "outputs": [],
   "source": [
    "team=[]\n",
    "goal_points_ratio=[]\n",
    "delta=[]\n",
    "\n",
    "for i in range(len(data)):\n",
    "    row=data.iloc[i]\n",
    "    team.append(row.team)\n",
    "    delta.append(row.goals_scored-row.expected_goal_scored)\n",
    "    if row.points>0:\n",
    "        goal_points_ratio.append(float(format((row.points/row.goals_scored), '.2f')))\n",
    "    else:\n",
    "        goal_points_ratio.append(0)\n",
    "res={\"team\":team,\"delta\":delta,\"goals_point_ratio\":goal_points_ratio}\n",
    "\n",
    "\n"
   ]
  },
  {
   "cell_type": "code",
   "execution_count": null,
   "id": "0f71cad3",
   "metadata": {},
   "outputs": [],
   "source": [
    "# res[\"goals_point_ratio\"]=goal_points_ratio\n",
    "\n",
    "# data.loc[data[\"team\"]==\"Serbia\"]\n",
    "# sorted(data.loc[:,\"goals_scored\"],reverse=True)"
   ]
  },
  {
   "cell_type": "code",
   "execution_count": null,
   "id": "51be5915",
   "metadata": {},
   "outputs": [],
   "source": [
    "pd.DataFrame(res).sort_values(\"goals_point_ratio\")"
   ]
  },
  {
   "cell_type": "code",
   "execution_count": null,
   "id": "0f13cc76",
   "metadata": {
    "ExecuteTime": {
     "end_time": "2022-12-20T13:04:12.434766Z",
     "start_time": "2022-12-20T13:04:12.428580Z"
    }
   },
   "outputs": [],
   "source": [
    "def get_response(number):\n",
    "\n",
    "    url = \"https://api-nba-v1.p.rapidapi.com/players/statistics\"\n",
    "\n",
    "    querystring = {\"id\":number,\"season\":\"2020\"}\n",
    "\n",
    "    headers = {\n",
    "        \"X-RapidAPI-Key\": \"bddfdf70b8mshbb1ca9870c018e7p119c4ejsn7cd1c7ceb114\",\n",
    "        \"X-RapidAPI-Host\": \"api-nba-v1.p.rapidapi.com\"\n",
    "    }\n",
    "\n",
    "    response = requests.request(\"GET\", url, headers=headers, params=querystring)\n",
    "    return response.json()['response']\n"
   ]
  },
  {
   "cell_type": "code",
   "execution_count": null,
   "id": "270cb7dc",
   "metadata": {
    "ExecuteTime": {
     "end_time": "2022-12-20T13:04:24.551284Z",
     "start_time": "2022-12-20T13:04:17.220586Z"
    }
   },
   "outputs": [],
   "source": [
    "# responses=[]\n",
    "# for i in range(20,40):\n",
    "#     r=get_response(str(i))\n",
    "#     if len(r)>0:\n",
    "#         responses.append(r)"
   ]
  },
  {
   "cell_type": "code",
   "execution_count": null,
   "id": "c7194a30",
   "metadata": {
    "ExecuteTime": {
     "end_time": "2022-12-20T13:01:19.443418Z",
     "start_time": "2022-12-20T13:01:17.339839Z"
    }
   },
   "outputs": [],
   "source": [
    "response=get_response('4')\n"
   ]
  },
  {
   "cell_type": "code",
   "execution_count": null,
   "id": "e3ad6fa5",
   "metadata": {
    "ExecuteTime": {
     "end_time": "2022-12-20T13:04:58.047447Z",
     "start_time": "2022-12-20T13:04:58.041228Z"
    }
   },
   "outputs": [],
   "source": [
    "len(responses)"
   ]
  },
  {
   "cell_type": "code",
   "execution_count": null,
   "id": "355929cd",
   "metadata": {
    "ExecuteTime": {
     "end_time": "2022-12-20T13:15:18.408880Z",
     "start_time": "2022-12-20T13:15:18.405190Z"
    }
   },
   "outputs": [],
   "source": [
    "data_json=responses[3]\n",
    "\n",
    "res={}\n",
    "\n",
    "# (data_json)"
   ]
  },
  {
   "cell_type": "code",
   "execution_count": null,
   "id": "be17c4ac",
   "metadata": {
    "ExecuteTime": {
     "end_time": "2022-12-20T13:15:21.050846Z",
     "start_time": "2022-12-20T13:15:21.040400Z"
    }
   },
   "outputs": [],
   "source": [
    "for key in data_json[0].keys():\n",
    "    res[key]=[]\n",
    "for row in data_json:\n",
    "    for v in row:\n",
    "        \n",
    "        if v=='game':\n",
    "            res['game'].append(row[v]['id'])\n",
    "        elif v=='player':\n",
    "            res[v].append(row[v]['firstname']+\"_\"+row[v]['lastname'])\n",
    "        elif v=='team':\n",
    "            res[v].append(row[v]['name'])\n",
    "        else: \n",
    "            res[v].append(row[v])\n"
   ]
  },
  {
   "cell_type": "code",
   "execution_count": null,
   "id": "2b07b508",
   "metadata": {
    "ExecuteTime": {
     "end_time": "2022-12-20T13:15:22.800741Z",
     "start_time": "2022-12-20T13:15:22.753815Z"
    }
   },
   "outputs": [],
   "source": [
    "\n",
    "df=pd.DataFrame(res)\n"
   ]
  },
  {
   "cell_type": "code",
   "execution_count": null,
   "id": "3f3dafda",
   "metadata": {
    "ExecuteTime": {
     "end_time": "2022-12-20T13:15:28.996120Z",
     "start_time": "2022-12-20T13:15:28.988220Z"
    }
   },
   "outputs": [],
   "source": [
    "df.to_csv(f'{df.player[0]}.csv')"
   ]
  }
 ],
 "metadata": {
  "kernelspec": {
   "display_name": "Python 3 (ipykernel)",
   "language": "python",
   "name": "python3"
  },
  "language_info": {
   "codemirror_mode": {
    "name": "ipython",
    "version": 3
   },
   "file_extension": ".py",
   "mimetype": "text/x-python",
   "name": "python",
   "nbconvert_exporter": "python",
   "pygments_lexer": "ipython3",
   "version": "3.9.12"
  }
 },
 "nbformat": 4,
 "nbformat_minor": 5
}
