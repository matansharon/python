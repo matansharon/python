{
 "cells": [
  {
   "cell_type": "code",
   "execution_count": 3,
   "id": "a9c5169f",
   "metadata": {
    "ExecuteTime": {
     "end_time": "2022-12-20T13:34:14.118312Z",
     "start_time": "2022-12-20T13:34:14.114793Z"
    }
   },
   "outputs": [],
   "source": [
    "import pandas as pd\n",
    "import os"
   ]
  },
  {
   "cell_type": "code",
   "execution_count": 14,
   "id": "2a94b312",
   "metadata": {
    "ExecuteTime": {
     "end_time": "2022-12-20T13:40:27.515031Z",
     "start_time": "2022-12-20T13:40:27.469298Z"
    }
   },
   "outputs": [],
   "source": [
    "list_=os.listdir()\n",
    "dfs=[]\n",
    "for i in list_:\n",
    "    if i.endswith('.csv'):\n",
    "        dfs.append(pd.read_csv(i))\n",
    "gi=dfs[1]"
   ]
  },
  {
   "cell_type": "code",
   "execution_count": 13,
   "id": "86caca94",
   "metadata": {
    "ExecuteTime": {
     "end_time": "2022-12-20T13:39:54.841214Z",
     "start_time": "2022-12-20T13:39:54.833246Z"
    }
   },
   "outputs": [
    {
     "data": {
      "text/plain": [
       "50.0"
      ]
     },
     "execution_count": 13,
     "metadata": {},
     "output_type": "execute_result"
    }
   ],
   "source": [
    "gi"
   ]
  }
 ],
 "metadata": {
  "kernelspec": {
   "display_name": "Python 3 (ipykernel)",
   "language": "python",
   "name": "python3"
  },
  "language_info": {
   "codemirror_mode": {
    "name": "ipython",
    "version": 3
   },
   "file_extension": ".py",
   "mimetype": "text/x-python",
   "name": "python",
   "nbconvert_exporter": "python",
   "pygments_lexer": "ipython3",
   "version": "3.9.12"
  }
 },
 "nbformat": 4,
 "nbformat_minor": 5
}
