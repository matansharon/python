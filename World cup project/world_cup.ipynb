{
 "cells": [
  {
   "cell_type": "code",
   "execution_count": null,
   "id": "b97af2b5",
   "metadata": {},
   "outputs": [],
   "source": [
    "teams={}\n",
    "with open(\"teams.csv\",\"r\")as file:\n",
    "    temp=[]\n",
    "    for line in file:\n",
    "        temp.append(line[:-1])\n",
    "        \n",
    "    for i in range(len(temp)):\n",
    "        teams[i]=temp[i]\n",
    "print(teams)"
   ]
  },
  {
   "cell_type": "code",
   "execution_count": null,
   "id": "d5ffb4ad",
   "metadata": {},
   "outputs": [],
   "source": [
    "class Friend:\n",
    "    def __init__(self,name,_list):\n",
    "        self.name=name\n",
    "        self.teams={}\n",
    "#         [self.teams[team]=0 for team in _list]\n",
    "        for i in _list:\n",
    "            self.teams[i]=0\n",
    "        self.score=0\n",
    "    def add_one(self,team):\n",
    "        self.teams[team]+=1\n",
    "    def update_total(self):\n",
    "        for i in self.teams:\n",
    "            self.score+=self.teams[i]\n",
    "    def toString(self):\n",
    "        res=\"\"\n",
    "        res+=self.name+\":\\n\"\n",
    "#         [res+=team+\": \"+self.teams[teams]+\"\\n\" for team in self.teams]\n",
    "        for team in self.teams:\n",
    "            res+=\"  \"+teams[team]+\": \"+str(self.teams[team])+\"\\n\"\n",
    "        res+=\"Total score: \"+str(self.score)+\"\\n\"\n",
    "        res+='-'*100+\"\\n\"\n",
    "        return res"
   ]
  },
  {
   "cell_type": "code",
   "execution_count": null,
   "id": "91aa50d8",
   "metadata": {},
   "outputs": [],
   "source": [
    "bar=Friend(\"Bar\",[1,2,5,8])\n",
    "matan=Friend(\"Matan\",[1,2,3,5])\n",
    "dan=Friend(\"Dan\",[2,3,4,10])\n",
    "ilan=Friend(\"Ilan\",[2,3,4,8])\n",
    "amit=Friend(\"Amit\",[3,4,6,10])\n",
    "shayel=Friend(\"Shayel\",[2,3,9,10])\n",
    "paz=Friend(\"Paz\",[2,3,4,8])\n",
    "dani=Friend(\"Dani\",[3,4,5,20])\n",
    "friends=[bar,matan,dan,ilan,amit,shayel,paz,dani]\n",
    "\n",
    "\n",
    "\n",
    "# [print(key,value,) for key,value in teams.items()]\n",
    "        \n",
    "\n",
    "    "
   ]
  },
  {
   "cell_type": "code",
   "execution_count": null,
   "id": "2b607534",
   "metadata": {},
   "outputs": [],
   "source": [
    "def update_all_scores(list_of_qualifing):\n",
    "    for f in friends:\n",
    "        for i in list_of_qualifing:\n",
    "            if i in f.teams:\n",
    "                f.add_one(i)\n",
    "        f.update_total()\n",
    "    [print(f.toString())for f in friends] "
   ]
  },
  {
   "cell_type": "code",
   "execution_count": null,
   "id": "06da0bc4",
   "metadata": {},
   "outputs": [],
   "source": [
    "# qulifing=[]\n",
    "# update_all_scores(qulifing)\n"
   ]
  },
  {
   "cell_type": "code",
   "execution_count": null,
   "id": "4a6672ea",
   "metadata": {},
   "outputs": [],
   "source": [
    "# quater_final=range(1,9)\n",
    "# update_all_scores(quater_final)"
   ]
  },
  {
   "cell_type": "code",
   "execution_count": 1,
   "id": "5c9bcc55",
   "metadata": {},
   "outputs": [
    {
     "name": "stdout",
     "output_type": "stream",
     "text": [
      "[]\n"
     ]
    }
   ],
   "source": [
    "# semi_final=[]\n",
    "# update_all_scores(semi_final)"
   ]
  },
  {
   "cell_type": "markdown",
   "id": "2005800e",
   "metadata": {},
   "source": [
    "semi_final=[]\n"
   ]
  }
 ],
 "metadata": {
  "kernelspec": {
   "display_name": "Python 3 (ipykernel)",
   "language": "python",
   "name": "python3"
  },
  "language_info": {
   "codemirror_mode": {
    "name": "ipython",
    "version": 3
   },
   "file_extension": ".py",
   "mimetype": "text/x-python",
   "name": "python",
   "nbconvert_exporter": "python",
   "pygments_lexer": "ipython3",
   "version": "3.9.13"
  }
 },
 "nbformat": 4,
 "nbformat_minor": 5
}
